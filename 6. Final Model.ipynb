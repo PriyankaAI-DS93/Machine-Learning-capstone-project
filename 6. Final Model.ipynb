{
 "cells": [
  {
   "cell_type": "code",
   "execution_count": 1,
   "id": "647f34f1-4978-4e76-bd45-4e13c2134fcf",
   "metadata": {},
   "outputs": [],
   "source": [
    "import pandas as pd\n",
    "import numpy as np\n",
    "import matplotlib.pyplot as plt\n",
    "import seaborn as sns\n",
    "from sklearn.feature_selection import SelectKBest\n",
    "from sklearn.feature_selection import f_regression\n"
   ]
  },
  {
   "cell_type": "code",
   "execution_count": 14,
   "id": "344633e7-72c2-411b-bc93-9a5d5a03c629",
   "metadata": {},
   "outputs": [],
   "source": [
    "dataset=pd.read_csv('laptop_price - dataset.csv')\n",
    "dataset=pd.get_dummies(dataset,dtype=int,drop_first=True)\n",
    "indep_X=dataset.drop('Price (Euro)', axis='columns')\n",
    "dep_Y=dataset['Price (Euro)']"
   ]
  },
  {
   "cell_type": "code",
   "execution_count": 19,
   "id": "9073235e-16b2-4c9e-9736-cc2ce474043b",
   "metadata": {},
   "outputs": [],
   "source": [
    "def selectkbest(indep_X, dep_Y, n):\n",
    "    from sklearn.feature_selection import SelectKBest\n",
    "    test=SelectKBest(score_func=f_regression, k=n)\n",
    "    fit1=test.fit(indep_X, dep_Y)\n",
    "    selectk_features=fit1.transform(indep_X)\n",
    "    return selectk_features\n",
    "\n",
    "def split_scaler(indep_X, dep_Y):\n",
    "    from sklearn.model_selection import train_test_split\n",
    "    from sklearn.preprocessing import StandardScaler\n",
    "    x_train, x_test, y_train, y_test=train_test_split(indep_X, dep_Y, test_size=0.25, random_state=0)\n",
    "    sc=StandardScaler()\n",
    "    x_train=sc.fit_transform(x_train)\n",
    "    x_test=sc.transform(x_test)\n",
    "    return x_train, x_test, y_train, y_test\n",
    "\n",
    "def r2_score_prediction(regressor, x_test, y_test):\n",
    "    from sklearn.metrics import r2_score\n",
    "    y_pred=regressor.predict(x_test)    \n",
    "    r2_score=r2_score(y_test, y_pred)\n",
    "    return r2_score, regressor, y_pred\n",
    "\n",
    "def linear(x_train, y_train, x_test, y_test):\n",
    "    from sklearn.linear_model import LinearRegression\n",
    "    regressor=LinearRegression()\n",
    "    regressor.fit(x_train, y_train)\n",
    "    r2_score, regressor, y_pred=r2_score_prediction(regressor, x_test, y_test)\n",
    "    return r2_score, regressor, y_pred\n",
    "\n",
    "def svr(x_train, y_train, x_test, y_test):\n",
    "    from sklearn.svm import SVR\n",
    "    regressor=SVR(kernel=\"sigmoid\", C=10)\n",
    "    regressor.fit(x_train, y_train)\n",
    "    r2_score, regressor, y_pred=r2_score_prediction(regressor, x_test, y_test)\n",
    "    return r2_score, regressor, y_pred\n",
    "\n",
    "def decisiontree(x_train, y_train, x_test, y_test):\n",
    "    from sklearn.tree import DecisionTreeRegressor\n",
    "    regressor=DecisionTreeRegressor(criterion=\"absolute_error\", splitter=\"random\")\n",
    "    regressor=regressor.fit(x_train, y_train)\n",
    "    r2_score, regressor, y_pred=r2_score_prediction(regressor, x_test, y_test)\n",
    "    return r2_score, regressor, y_pred\n",
    "\n",
    "def randomforest(x_train, y_train, x_test, y_test):\n",
    "    from sklearn.ensemble import RandomForestRegressor\n",
    "    regressor=RandomForestRegressor(n_estimators=50, random_state=0)\n",
    "    regressor.fit(x_train, y_train)\n",
    "    r2_score, regressor, y_pred=r2_score_prediction(regressor, x_test, y_test)\n",
    "    return r2_score, regressor, y_pred\n",
    "\n",
    "def selectk_Regression(acclin, accsvm, accdec, accrf):\n",
    "    dataframe=pd.DataFrame(index=['f_regression'], columns=['Linear', 'SVM', 'Decision', 'Random'])\n",
    "    for number, idex in enumerate(dataframe.index):\n",
    "        dataframe['Linear'][idex]=acclin[number]\n",
    "        dataframe['SVM'][idex]=accsvm[number]\n",
    "        dataframe['Decision'][idex]=accdec[number]\n",
    "        dataframe['Random'][idex]=accrf[number]\n",
    "    return dataframe"
   ]
  },
  {
   "cell_type": "code",
   "execution_count": 36,
   "id": "4d664c48-ea6c-4225-af7f-ec8f21aa880e",
   "metadata": {},
   "outputs": [
    {
     "name": "stderr",
     "output_type": "stream",
     "text": [
      "C:\\Users\\jspri\\AppData\\Local\\Temp\\ipykernel_23220\\2545720157.py:54: FutureWarning: ChainedAssignmentError: behaviour will change in pandas 3.0!\n",
      "You are setting values through chained assignment. Currently this works in certain cases, but when using Copy-on-Write (which will become the default behaviour in pandas 3.0) this will never work to update the original DataFrame or Series, because the intermediate object on which we are setting values will behave as a copy.\n",
      "A typical example is when you are setting values in a column of a DataFrame, like:\n",
      "\n",
      "df[\"col\"][row_indexer] = value\n",
      "\n",
      "Use `df.loc[row_indexer, \"col\"] = values` instead, to perform the assignment in a single step and ensure this keeps updating the original `df`.\n",
      "\n",
      "See the caveats in the documentation: https://pandas.pydata.org/pandas-docs/stable/user_guide/indexing.html#returning-a-view-versus-a-copy\n",
      "\n",
      "  dataframe['Linear'][idex]=acclin[number]\n",
      "C:\\Users\\jspri\\AppData\\Local\\Temp\\ipykernel_23220\\2545720157.py:55: FutureWarning: ChainedAssignmentError: behaviour will change in pandas 3.0!\n",
      "You are setting values through chained assignment. Currently this works in certain cases, but when using Copy-on-Write (which will become the default behaviour in pandas 3.0) this will never work to update the original DataFrame or Series, because the intermediate object on which we are setting values will behave as a copy.\n",
      "A typical example is when you are setting values in a column of a DataFrame, like:\n",
      "\n",
      "df[\"col\"][row_indexer] = value\n",
      "\n",
      "Use `df.loc[row_indexer, \"col\"] = values` instead, to perform the assignment in a single step and ensure this keeps updating the original `df`.\n",
      "\n",
      "See the caveats in the documentation: https://pandas.pydata.org/pandas-docs/stable/user_guide/indexing.html#returning-a-view-versus-a-copy\n",
      "\n",
      "  dataframe['SVM'][idex]=accsvm[number]\n",
      "C:\\Users\\jspri\\AppData\\Local\\Temp\\ipykernel_23220\\2545720157.py:56: FutureWarning: ChainedAssignmentError: behaviour will change in pandas 3.0!\n",
      "You are setting values through chained assignment. Currently this works in certain cases, but when using Copy-on-Write (which will become the default behaviour in pandas 3.0) this will never work to update the original DataFrame or Series, because the intermediate object on which we are setting values will behave as a copy.\n",
      "A typical example is when you are setting values in a column of a DataFrame, like:\n",
      "\n",
      "df[\"col\"][row_indexer] = value\n",
      "\n",
      "Use `df.loc[row_indexer, \"col\"] = values` instead, to perform the assignment in a single step and ensure this keeps updating the original `df`.\n",
      "\n",
      "See the caveats in the documentation: https://pandas.pydata.org/pandas-docs/stable/user_guide/indexing.html#returning-a-view-versus-a-copy\n",
      "\n",
      "  dataframe['Decision'][idex]=accdec[number]\n",
      "C:\\Users\\jspri\\AppData\\Local\\Temp\\ipykernel_23220\\2545720157.py:57: FutureWarning: ChainedAssignmentError: behaviour will change in pandas 3.0!\n",
      "You are setting values through chained assignment. Currently this works in certain cases, but when using Copy-on-Write (which will become the default behaviour in pandas 3.0) this will never work to update the original DataFrame or Series, because the intermediate object on which we are setting values will behave as a copy.\n",
      "A typical example is when you are setting values in a column of a DataFrame, like:\n",
      "\n",
      "df[\"col\"][row_indexer] = value\n",
      "\n",
      "Use `df.loc[row_indexer, \"col\"] = values` instead, to perform the assignment in a single step and ensure this keeps updating the original `df`.\n",
      "\n",
      "See the caveats in the documentation: https://pandas.pydata.org/pandas-docs/stable/user_guide/indexing.html#returning-a-view-versus-a-copy\n",
      "\n",
      "  dataframe['Random'][idex]=accrf[number]\n"
     ]
    }
   ],
   "source": [
    "kbest=selectkbest(indep_X, dep_Y, 10)\n",
    "acclin=[]\n",
    "accsvm=[]\n",
    "accdec=[]\n",
    "accrf=[]\n",
    "\n",
    "x_train, x_test, y_train, y_test=split_scaler(kbest, dep_Y)\n",
    "r2_score, regressor, y_pred=linear(x_train, y_train, x_test, y_test)\n",
    "acclin.append(r2_score)\n",
    "r2_score, regressor, y_pred=svr(x_train, y_train, x_test, y_test)\n",
    "accsvm.append(r2_score)\n",
    "r2_score, regressor, y_pred=decisiontree(x_train, y_train, x_test, y_test)\n",
    "accdec.append(r2_score)\n",
    "r2_score, regressor, y_pred=randomforest(x_train, y_train, x_test, y_test)\n",
    "accrf.append(r2_score)\n",
    "result=selectk_Regression(acclin, accsvm, accdec, accrf)"
   ]
  },
  {
   "cell_type": "code",
   "execution_count": 34,
   "id": "44479504-c3a4-4c3b-8c79-9d7049dd1c3d",
   "metadata": {},
   "outputs": [],
   "source": [
    "import pickle\n",
    "filename=\"finalized_model_random_forest.sav\""
   ]
  },
  {
   "cell_type": "code",
   "execution_count": 37,
   "id": "e20075c3-60a7-4280-89d4-961f811ec419",
   "metadata": {},
   "outputs": [],
   "source": [
    "r2_score, regressor, y_pred = randomforest(x_train, y_train, x_test, y_test)\n",
    "acclin.append(r2_score)\n",
    "with open('finalized_model_random_forest.sav', 'wb') as file:\n",
    "    pickle.dump(regressor, file)"
   ]
  },
  {
   "cell_type": "code",
   "execution_count": 41,
   "id": "e48f8e9a-beeb-42c9-bf08-abe745ffb234",
   "metadata": {},
   "outputs": [],
   "source": [
    "loaded_model=pickle.load(open(\"finalized_model_random_forest.sav\", 'rb'))\n",
    "result=loaded_model.predict([[13.3, 2.3, 8, 1.37, 1, 1, 0, 1, 1, 1]])"
   ]
  },
  {
   "cell_type": "code",
   "execution_count": 43,
   "id": "14df1971-a4da-4270-b590-ff96adf0ffc5",
   "metadata": {},
   "outputs": [
    {
     "data": {
      "text/plain": [
       "array([1529.62855952])"
      ]
     },
     "execution_count": 43,
     "metadata": {},
     "output_type": "execute_result"
    }
   ],
   "source": [
    "result"
   ]
  },
  {
   "cell_type": "code",
   "execution_count": null,
   "id": "52210af8-bbba-4d8a-a2e2-517561760f92",
   "metadata": {},
   "outputs": [],
   "source": []
  }
 ],
 "metadata": {
  "kernelspec": {
   "display_name": "Python 3 (ipykernel)",
   "language": "python",
   "name": "python3"
  },
  "language_info": {
   "codemirror_mode": {
    "name": "ipython",
    "version": 3
   },
   "file_extension": ".py",
   "mimetype": "text/x-python",
   "name": "python",
   "nbconvert_exporter": "python",
   "pygments_lexer": "ipython3",
   "version": "3.10.15"
  }
 },
 "nbformat": 4,
 "nbformat_minor": 5
}
